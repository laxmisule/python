{
 "cells": [
  {
   "cell_type": "code",
   "execution_count": 3,
   "id": "96c43a42",
   "metadata": {},
   "outputs": [
    {
     "name": "stdout",
     "output_type": "stream",
     "text": [
      "1\n",
      "1\n",
      "11\n"
     ]
    }
   ],
   "source": [
    "# conditional statement\n",
    "n=int(input())\n",
    "sum=10\n",
    "while(n):\n",
    "    remainder=n%2\n",
    "    print(remainder)\n",
    "    sum +=remainder\n",
    "    print(sum)\n",
    "    n//=2\n",
    "#print(\"n\",n)"
   ]
  },
  {
   "cell_type": "code",
   "execution_count": 18,
   "id": "fe981222",
   "metadata": {},
   "outputs": [
    {
     "name": "stdout",
     "output_type": "stream",
     "text": [
      "1\n",
      "2\n",
      "3\n",
      "4\n",
      "5\n",
      "6\n"
     ]
    }
   ],
   "source": [
    "li=(1,2,3,4,5,6)\n",
    "for i in li:\n",
    "    print (i)\n",
    "\n",
    "    "
   ]
  },
  {
   "cell_type": "code",
   "execution_count": 20,
   "id": "c44640e5",
   "metadata": {},
   "outputs": [
    {
     "name": "stdout",
     "output_type": "stream",
     "text": [
      "enter a number= 1245\n",
      "124\n",
      "12\n",
      "1\n",
      "0\n",
      "4\n"
     ]
    }
   ],
   "source": [
    "i=int(input(\"enter a number= \"))\n",
    "count=0\n",
    "while i!=0:\n",
    "    i=i//10\n",
    "    print(i)\n",
    "    count+=1\n",
    "print(count)"
   ]
  },
  {
   "cell_type": "code",
   "execution_count": null,
   "id": "22e2229f",
   "metadata": {},
   "outputs": [],
   "source": []
  },
  {
   "cell_type": "code",
   "execution_count": 31,
   "id": "6c4d6745",
   "metadata": {},
   "outputs": [
    {
     "name": "stdout",
     "output_type": "stream",
     "text": [
      "enter a number= 1456\n",
      "1456\n",
      "1456\n",
      "1456\n",
      "1456\n",
      "4\n"
     ]
    }
   ],
   "source": [
    "k=(input(\"enter a number= \"))\n",
    "count=0\n",
    "for i in k:\n",
    "    print(k)\n",
    "    count+=1\n",
    "print(count)"
   ]
  },
  {
   "cell_type": "code",
   "execution_count": 14,
   "id": "8fe6bf65",
   "metadata": {},
   "outputs": [
    {
     "name": "stdout",
     "output_type": "stream",
     "text": [
      "10\n",
      "0\n",
      "10\n",
      "1\n",
      "11\n",
      "0\n",
      "11\n",
      "1\n",
      "12\n",
      "n 0\n"
     ]
    }
   ],
   "source": [
    "n = int(input())\n",
    "sum = 10\n",
    "while(n):\n",
    "  remainder=n%2\n",
    "  print(remainder)\n",
    "  sum +=remainder\n",
    "  print(sum)\n",
    "  n//=2\n",
    "print(\"n\",n)"
   ]
  },
  {
   "cell_type": "code",
   "execution_count": 4,
   "id": "e3bbc5a7",
   "metadata": {},
   "outputs": [
    {
     "name": "stdout",
     "output_type": "stream",
     "text": [
      "B\n"
     ]
    }
   ],
   "source": [
    "a=22\n",
    "b=34\n",
    "print(\"A\") if a>b else print(\"B\")"
   ]
  },
  {
   "cell_type": "code",
   "execution_count": 5,
   "id": "f3f5675e",
   "metadata": {},
   "outputs": [
    {
     "name": "stdout",
     "output_type": "stream",
     "text": [
      "3 is a positive number.\n",
      "number was greater than 0\n"
     ]
    }
   ],
   "source": [
    "num=3\n",
    "if num>0:\n",
    "    print (num, \"is a positive number.\")\n",
    "print(\"number was greater than 0\")"
   ]
  },
  {
   "cell_type": "code",
   "execution_count": 8,
   "id": "74274372",
   "metadata": {},
   "outputs": [
    {
     "name": "stdout",
     "output_type": "stream",
     "text": [
      "riya is younger, she can play\n",
      "children's ground\n"
     ]
    }
   ],
   "source": [
    "riya=10\n",
    "if riya<15:\n",
    "    print(\"riya is younger, she can play\")\n",
    "else:\n",
    "    print(\"riya is elder\")\n",
    "print(\"children's ground\")"
   ]
  },
  {
   "cell_type": "code",
   "execution_count": 73,
   "id": "3d38867c",
   "metadata": {},
   "outputs": [
    {
     "name": "stdout",
     "output_type": "stream",
     "text": [
      "enter first number=4\n",
      "enter second number=41\n",
      "enter third number=55\n",
      "enter fourth number=12\n",
      "which operation you wanna perform\n",
      "1. Addition\n",
      "2. subtraction\n",
      "3. multiplication\n",
      "4. division\n",
      "enter the number: 4\n",
      "division of 4 / 41 / 55 / 12 = 0.0015151515151515152\n",
      "ok\n"
     ]
    }
   ],
   "source": [
    "num1=int(input(\"enter first number=\"))\n",
    "num2=int(input(\"enter second number=\"))\n",
    "num3=int(input(\"enter third number=\"))\n",
    "num4=int(input(\"enter fourth number=\"))\n",
    "print(\"which operation you wanna perform\")\n",
    "print(\"1. Addition\")\n",
    "print(\"2. subtraction\")\n",
    "print(\"3. multiplication\")\n",
    "print(\"4. division\")\n",
    "option=int(input(\"enter the number: \"))\n",
    "if option==1:\n",
    "    print(\"addition of\", num1,\"+\",num2,\"=\",num1+num2+num3+num4)\n",
    "elif option==2:\n",
    "    print(\"substraction of\", num1,\"-\",num2,\"-\",num3,\"-\",num4,\"=\",num1-num2-num3-num4)\n",
    "elif option==3:\n",
    "    print(\"multiplication of\", num1,\"*\",num2,\"*\",num3,\"*\", num4,\"=\",num1*num2*num3*num4)\n",
    "elif option==4:\n",
    "    print(\"division of\", num1,\"/\", num2,\"/\",num3,\"/\",num4,\"=\", num2/num2/num3/num4)\n",
    "else :\n",
    "    print(\"wrong number\")\n",
    "print(\"ok\")\n",
    "\n"
   ]
  },
  {
   "cell_type": "code",
   "execution_count": 25,
   "id": "0a0a3573",
   "metadata": {},
   "outputs": [
    {
     "name": "stdout",
     "output_type": "stream",
     "text": [
      "i is 10\n"
     ]
    }
   ],
   "source": [
    "\n",
    "i = 10\n",
    "if (i == 10): \n",
    "    print (\"i is 10\") \n",
    "elif (i == 15): \n",
    "    print (\"i is 15\") \n",
    "elif (i == 20): \n",
    "    print (\"i is 20\") \n",
    "else:   \n",
    "    print (\"i is not present\") "
   ]
  },
  {
   "cell_type": "code",
   "execution_count": 29,
   "id": "2db8ec96",
   "metadata": {},
   "outputs": [
    {
     "name": "stdout",
     "output_type": "stream",
     "text": [
      "k is largest\n"
     ]
    }
   ],
   "source": [
    "#wrong output\n",
    "b\n",
    "i = 11\n",
    "j=12\n",
    "k=13\n",
    "m=30\n",
    "if (m<100 & m>75): \n",
    "\t# First if statement \n",
    "\tprint(\"i is largest\")\n",
    "elif (m>60 & m<75): \n",
    "\t# First if statement \n",
    "    print(\"k is largest\")\n",
    "elif (m>70 & m<60): \n",
    "    print(\"j is largest\")\n",
    "else: \n",
    "    print (\"wbrong number\") "
   ]
  },
  {
   "cell_type": "code",
   "execution_count": 41,
   "id": "ffaf6d08",
   "metadata": {},
   "outputs": [
    {
     "name": "stdout",
     "output_type": "stream",
     "text": [
      "person is a adult\n"
     ]
    }
   ],
   "source": [
    "#HW\n",
    "age=15\n",
    "if age<=10:\n",
    "    print(\"person is a child\")\n",
    "else:\n",
    "    print(\"person is a adult\")"
   ]
  },
  {
   "cell_type": "code",
   "execution_count": 45,
   "id": "756e09dc",
   "metadata": {},
   "outputs": [
    {
     "name": "stdout",
     "output_type": "stream",
     "text": [
      "60\n"
     ]
    }
   ],
   "source": [
    "#operator\n",
    "#Create a program to calcuate with 3 numbers - i.e add, subtract, multiply, divison, reminder, power\n",
    "a=10\n",
    "b=20\n",
    "c=30\n",
    "d=a+b+c\n",
    "print(d)"
   ]
  },
  {
   "cell_type": "code",
   "execution_count": 47,
   "id": "239c7128",
   "metadata": {},
   "outputs": [
    {
     "name": "stdout",
     "output_type": "stream",
     "text": [
      "-40\n"
     ]
    }
   ],
   "source": [
    "a=10\n",
    "b=20\n",
    "c=30\n",
    "d=a-b-c\n",
    "print(d)"
   ]
  },
  {
   "cell_type": "code",
   "execution_count": 48,
   "id": "f3a0a7cf",
   "metadata": {},
   "outputs": [
    {
     "name": "stdout",
     "output_type": "stream",
     "text": [
      "6000\n"
     ]
    }
   ],
   "source": [
    "a=10\n",
    "b=20\n",
    "c=30\n",
    "d=a*b*c\n",
    "print(d)"
   ]
  },
  {
   "cell_type": "code",
   "execution_count": 49,
   "id": "ac2827bc",
   "metadata": {},
   "outputs": [
    {
     "name": "stdout",
     "output_type": "stream",
     "text": [
      "0.016666666666666666\n"
     ]
    }
   ],
   "source": [
    "a=10\n",
    "b=20\n",
    "c=30\n",
    "d=a/b/c\n",
    "print(d)"
   ]
  },
  {
   "cell_type": "code",
   "execution_count": 50,
   "id": "b6f4b07d",
   "metadata": {},
   "outputs": [
    {
     "name": "stdout",
     "output_type": "stream",
     "text": [
      "10\n"
     ]
    }
   ],
   "source": [
    "a=10\n",
    "b=20\n",
    "c=30\n",
    "d=a%b%c\n",
    "print(d)"
   ]
  },
  {
   "cell_type": "code",
   "execution_count": null,
   "id": "9970de8a",
   "metadata": {},
   "outputs": [],
   "source": [
    "a=10\n",
    "b=20\n",
    "c=30\n",
    "d=a+c\n",
    "print(d)\n",
    "\n",
    "      "
   ]
  },
  {
   "cell_type": "code",
   "execution_count": null,
   "id": "1a2e71df",
   "metadata": {},
   "outputs": [],
   "source": [
    "a=10\n",
    "b=20\n",
    "c=30\n",
    "d=a//c\n",
    "print(d)"
   ]
  },
  {
   "cell_type": "code",
   "execution_count": null,
   "id": "cdece16b",
   "metadata": {},
   "outputs": [],
   "source": [
    "i=1\n",
    "while i<=20\n",
    "  print(i)\n",
    "  i=i+1"
   ]
  },
  {
   "cell_type": "code",
   "execution_count": null,
   "id": "92e9b664",
   "metadata": {},
   "outputs": [],
   "source": [
    "a=10\n",
    "b=20\n",
    "c=30\n",
    "d=a+c\n",
    "print(d)"
   ]
  },
  {
   "cell_type": "code",
   "execution_count": 32,
   "id": "31a6c444",
   "metadata": {},
   "outputs": [],
   "source": [
    "for i in range (1000,-1):\n",
    "    print(i)"
   ]
  },
  {
   "cell_type": "code",
   "execution_count": 51,
   "id": "1acfcf45",
   "metadata": {},
   "outputs": [
    {
     "name": "stdout",
     "output_type": "stream",
     "text": [
      "1000\n",
      "900\n",
      "800\n",
      "700\n",
      "600\n",
      "500\n",
      "400\n",
      "300\n",
      "200\n",
      "100\n"
     ]
    }
   ],
   "source": [
    "for i in range (1000,0,-100):\n",
    "    print(i)"
   ]
  },
  {
   "cell_type": "code",
   "execution_count": 60,
   "id": "2ba5a152",
   "metadata": {},
   "outputs": [
    {
     "name": "stdout",
     "output_type": "stream",
     "text": [
      "b is bigger number\n"
     ]
    }
   ],
   "source": [
    "a=200\n",
    "b=300\n",
    "print(\"a\") if a > b else print(\"b is bigger number\")"
   ]
  },
  {
   "cell_type": "code",
   "execution_count": 69,
   "id": "f80eb90d",
   "metadata": {},
   "outputs": [
    {
     "name": "stdout",
     "output_type": "stream",
     "text": [
      "b\n"
     ]
    }
   ],
   "source": [
    "a=3000\n",
    "b=4582\n",
    "print(\"a is greater\") if a>b else print(\"b\")"
   ]
  },
  {
   "cell_type": "code",
   "execution_count": 72,
   "id": "e7fec5f3",
   "metadata": {},
   "outputs": [
    {
     "name": "stdout",
     "output_type": "stream",
     "text": [
      "b is less than a\n"
     ]
    }
   ],
   "source": [
    "a=400\n",
    "b=30\n",
    "if b>a:\n",
    "    print(\"b is greater\")\n",
    "elif a==b:\n",
    "    print(\"a and b are equal\")\n",
    "else:\n",
    "    print(\"b is less than a\")"
   ]
  },
  {
   "cell_type": "code",
   "execution_count": 85,
   "id": "089f2ea2",
   "metadata": {},
   "outputs": [
    {
     "name": "stdout",
     "output_type": "stream",
     "text": [
      "enter the number=-5\n",
      "negative number\n"
     ]
    }
   ],
   "source": [
    "num= int(input(\"enter the number=\"))\n",
    "if num>0:\n",
    "    print(\"positive number\")\n",
    "elif num==0:\n",
    "    print(\"zero\")\n",
    "else:\n",
    "    print(\"negative number\")           "
   ]
  },
  {
   "cell_type": "code",
   "execution_count": 93,
   "id": "7e3948de",
   "metadata": {},
   "outputs": [
    {
     "name": "stdout",
     "output_type": "stream",
     "text": [
      "enter the age= 10\n",
      "enter the height= 4\n",
      "height is small\n"
     ]
    }
   ],
   "source": [
    "age= int(input(\"enter the age= \"))\n",
    "         \n",
    "height=float(input(\"enter the height= \"))\n",
    "if age >= 10:\n",
    "         if height >= 4.5:\n",
    "              print(\"siddh can enter the pool\")\n",
    "         else:\n",
    "              print(\"height is small\")\n",
    "else:\n",
    "       print(\"siddh can not enter the pool\")"
   ]
  },
  {
   "cell_type": "code",
   "execution_count": 112,
   "id": "017bfab1",
   "metadata": {},
   "outputs": [
    {
     "name": "stdout",
     "output_type": "stream",
     "text": [
      "i is a larger number\n"
     ]
    }
   ],
   "source": [
    "#why output is wrong?\n",
    "i=10\n",
    "j=200\n",
    "k=300\n",
    "if(i>300 & i<50):\n",
    "    print(\"i is a larger number\")\n",
    "elif(j>150 & j<300):\n",
    "    print(\"j is proper number\")\n",
    "else:\n",
    "    print(\"k is a right number\")"
   ]
  },
  {
   "cell_type": "code",
   "execution_count": 114,
   "id": "dc27316e",
   "metadata": {},
   "outputs": [
    {
     "name": "stdout",
     "output_type": "stream",
     "text": [
      "python is fun\n",
      "python is fun\n",
      "python is fun\n",
      "python is fun\n",
      "python is fun\n",
      "python is fun\n",
      "python is fun\n",
      "python is fun\n",
      "python is fun\n",
      "python is fun\n"
     ]
    }
   ],
   "source": [
    "i=1\n",
    "while i<11 :\n",
    "    print(\"python is fun\")\n",
    "    i+=1\n",
    "    "
   ]
  },
  {
   "cell_type": "code",
   "execution_count": 134,
   "id": "7fc61dea",
   "metadata": {
    "scrolled": true
   },
   "outputs": [
    {
     "name": "stdout",
     "output_type": "stream",
     "text": [
      "368\n",
      "736\n",
      "1104\n",
      "1472\n",
      "1840\n",
      "2208\n",
      "2576\n",
      "2944\n",
      "3312\n",
      "3680\n"
     ]
    }
   ],
   "source": [
    "i=368\n",
    "while i<3681:\n",
    "    if i%368==0:\n",
    "        print(i)\n",
    "    i+=1"
   ]
  },
  {
   "cell_type": "code",
   "execution_count": 140,
   "id": "c16a6265",
   "metadata": {},
   "outputs": [
    {
     "name": "stdout",
     "output_type": "stream",
     "text": [
      "12 * 1 = 12\n",
      "12 * 11 = 132\n",
      "12 * 21 = 252\n",
      "12 * 31 = 372\n",
      "12 * 41 = 492\n",
      "12 * 51 = 612\n",
      "12 * 61 = 732\n",
      "12 * 71 = 852\n",
      "12 * 81 = 972\n",
      "12 * 91 = 1092\n"
     ]
    }
   ],
   "source": [
    "i=12\n",
    "j=1\n",
    "while j<=100:\n",
    "    print(i,\"*\",j,\"=\", j*i)\n",
    "    j+=10"
   ]
  },
  {
   "cell_type": "code",
   "execution_count": 144,
   "id": "838e6684",
   "metadata": {},
   "outputs": [
    {
     "name": "stdout",
     "output_type": "stream",
     "text": [
      "25\n",
      "30\n",
      "35\n",
      "40\n",
      "45\n",
      "50\n"
     ]
    }
   ],
   "source": [
    "i=5\n",
    "j=5\n",
    "while i<=10:\n",
    "    print(i*j)\n",
    "    i+=1"
   ]
  },
  {
   "cell_type": "code",
   "execution_count": 157,
   "id": "3111a693",
   "metadata": {},
   "outputs": [
    {
     "name": "stdout",
     "output_type": "stream",
     "text": [
      "1\n",
      "4\n",
      "7\n",
      "10\n",
      "13\n",
      "16\n",
      "19\n",
      "22\n",
      "25\n",
      "28\n",
      "31\n",
      "34\n",
      "37\n",
      "40\n",
      "43\n",
      "46\n",
      "49\n",
      "52\n",
      "55\n",
      "58\n",
      "61\n",
      "64\n",
      "67\n",
      "70\n",
      "73\n",
      "76\n",
      "79\n",
      "82\n",
      "85\n",
      "88\n",
      "91\n",
      "94\n",
      "97\n",
      "100\n",
      "Breaking loop\n",
      "done\n"
     ]
    }
   ],
   "source": [
    "i=1\n",
    "while i<486:\n",
    "    print(i)\n",
    "    if (i == 100):\n",
    "        print(\"Breaking loop\")\n",
    "        break\n",
    "    i+=3\n",
    "print(\"done\")"
   ]
  },
  {
   "cell_type": "code",
   "execution_count": 183,
   "id": "24747253",
   "metadata": {},
   "outputs": [
    {
     "name": "stdout",
     "output_type": "stream",
     "text": [
      "Hey\n",
      "40\n"
     ]
    }
   ],
   "source": [
    "#didn't get\n",
    "weekSalary=0\n",
    "day=0\n",
    "week=['Monday','Tuesday','Wednes','Thurs','Fri','Sat','Sun']\n",
    "while(True):\n",
    "  if(week[day]=='Wednes'):\n",
    "    print(\"Hey\")\n",
    "    break\n",
    "  weekSalary+=20\n",
    "  day+=1\n",
    "print(str(weekSalary))"
   ]
  },
  {
   "cell_type": "code",
   "execution_count": null,
   "id": "8802e905",
   "metadata": {},
   "outputs": [],
   "source": [
    "i=1\n",
    "while i<150:\n",
    "    print(i)\n",
    "     i+=10"
   ]
  },
  {
   "cell_type": "code",
   "execution_count": 195,
   "id": "3805f478",
   "metadata": {},
   "outputs": [
    {
     "name": "stdout",
     "output_type": "stream",
     "text": [
      "31\n",
      "32\n",
      "33\n",
      "34\n",
      "35\n",
      "36\n",
      "37\n",
      "38\n",
      "39\n",
      "40\n",
      "41\n",
      "42\n",
      "43\n",
      "44\n",
      "45\n",
      "46\n",
      "47\n",
      "48\n",
      "49\n",
      "50\n",
      "51\n",
      "52\n",
      "53\n",
      "54\n",
      "55\n",
      "56\n",
      "57\n",
      "58\n",
      "59\n"
     ]
    }
   ],
   "source": [
    "i=31\n",
    "while i<60:\n",
    "    print(i)\n",
    "    i+=1"
   ]
  },
  {
   "cell_type": "code",
   "execution_count": 197,
   "id": "b7197df4",
   "metadata": {},
   "outputs": [
    {
     "name": "stdout",
     "output_type": "stream",
     "text": [
      "10\n",
      "9\n",
      "8\n",
      "7\n",
      "6\n",
      "5\n",
      "4\n",
      "3\n",
      "2\n",
      "1\n"
     ]
    }
   ],
   "source": [
    "i=10\n",
    "while i>0:\n",
    "    print(i)\n",
    "    i-=1"
   ]
  },
  {
   "cell_type": "code",
   "execution_count": 226,
   "id": "fe54cded",
   "metadata": {},
   "outputs": [
    {
     "name": "stdout",
     "output_type": "stream",
     "text": [
      "10\n",
      "9\n",
      "8\n",
      "7\n",
      "6\n",
      "5\n",
      "4\n",
      "3\n",
      "2\n",
      "1\n"
     ]
    }
   ],
   "source": [
    "for i in range (10, 0, -1):\n",
    "    print(i)"
   ]
  },
  {
   "cell_type": "code",
   "execution_count": 33,
   "id": "224d561b",
   "metadata": {},
   "outputs": [
    {
     "name": "stdout",
     "output_type": "stream",
     "text": [
      "2\n",
      "4\n",
      "6\n",
      "8\n",
      "10\n",
      "12\n",
      "14\n",
      "16\n",
      "18\n"
     ]
    }
   ],
   "source": [
    "for i in range (2,20,2):\n",
    "    print(i)"
   ]
  },
  {
   "cell_type": "code",
   "execution_count": 47,
   "id": "4f1d65e4",
   "metadata": {},
   "outputs": [
    {
     "name": "stdout",
     "output_type": "stream",
     "text": [
      "2  X  1 =  2\n",
      "2  X  2 =  4\n",
      "2  X  3 =  6\n",
      "2  X  4 =  8\n",
      "2  X  5 =  10\n",
      "2  X  6 =  12\n",
      "2  X  7 =  14\n",
      "2  X  8 =  16\n",
      "2  X  9 =  18\n",
      "2  X  10 =  20\n"
     ]
    }
   ],
   "source": [
    "num=2\n",
    "for i in range(1,11):\n",
    "    print(num, \" X \" ,i, \"= \", num*i)"
   ]
  },
  {
   "cell_type": "code",
   "execution_count": 49,
   "id": "4cacdef5",
   "metadata": {},
   "outputs": [
    {
     "name": "stdout",
     "output_type": "stream",
     "text": [
      "enter a number to write table= 45\n",
      "45  X  1 =  45\n",
      "45  X  2 =  90\n",
      "45  X  3 =  135\n",
      "45  X  4 =  180\n",
      "45  X  5 =  225\n",
      "45  X  6 =  270\n",
      "45  X  7 =  315\n",
      "45  X  8 =  360\n",
      "45  X  9 =  405\n",
      "45  X  10 =  450\n"
     ]
    }
   ],
   "source": [
    "num=int(input(\"enter a number to write table= \"))\n",
    "for i in range(1,11):\n",
    "    print(num, \" X \" ,i, \"= \", num*i)"
   ]
  },
  {
   "cell_type": "code",
   "execution_count": 53,
   "id": "1caf2eb4",
   "metadata": {},
   "outputs": [
    {
     "name": "stdout",
     "output_type": "stream",
     "text": [
      "1\n",
      "11\n",
      "21\n",
      "31\n",
      "41\n",
      "51\n",
      "61\n",
      "71\n",
      "81\n",
      "91\n",
      "101\n",
      "111\n",
      "121\n",
      "131\n",
      "141\n"
     ]
    }
   ],
   "source": [
    "for i in range(1,150,10):\n",
    "    print(i)"
   ]
  },
  {
   "cell_type": "code",
   "execution_count": 58,
   "id": "2db46551",
   "metadata": {},
   "outputs": [],
   "source": [
    "for i in range(10,1):\n",
    "    print(i)"
   ]
  },
  {
   "cell_type": "code",
   "execution_count": 77,
   "id": "29a06a24",
   "metadata": {},
   "outputs": [],
   "source": [
    "for i in range(10,1,1):\n",
    "      print(i)"
   ]
  },
  {
   "cell_type": "code",
   "execution_count": 80,
   "id": "7f9dd59b",
   "metadata": {},
   "outputs": [],
   "source": [
    "for i in range(10,1,1):\n",
    "    print(i)"
   ]
  },
  {
   "cell_type": "code",
   "execution_count": null,
   "id": "00479266",
   "metadata": {},
   "outputs": [],
   "source": []
  }
 ],
 "metadata": {
  "kernelspec": {
   "display_name": "Python 3 (ipykernel)",
   "language": "python",
   "name": "python3"
  },
  "language_info": {
   "codemirror_mode": {
    "name": "ipython",
    "version": 3
   },
   "file_extension": ".py",
   "mimetype": "text/x-python",
   "name": "python",
   "nbconvert_exporter": "python",
   "pygments_lexer": "ipython3",
   "version": "3.9.7"
  }
 },
 "nbformat": 4,
 "nbformat_minor": 5
}
